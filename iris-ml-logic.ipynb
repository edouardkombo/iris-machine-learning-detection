{
 "cells": [
  {
   "cell_type": "code",
   "execution_count": 94,
   "metadata": {},
   "outputs": [
    {
     "name": "stdout",
     "output_type": "stream",
     "text": [
      "Create directory AutoML_2\n",
      "AutoML task to be solved: multiclass_classification\n",
      "AutoML will use algorithms: ['Decision Tree', 'Linear', 'Random Forest']\n",
      "AutoML will optimize for metric: logloss\n",
      "1_DecisionTree final logloss 0.48212734438216076 time 4.87 seconds\n",
      "2_Linear final logloss 0.1570937244501868 time 3.24 seconds\n",
      "3_Default_RandomForest final logloss 0.1787654027643232 time 3.19 seconds\n",
      "Ensemble final logloss 0.1267120944985365 time 0.05 seconds\n",
      "   Predicted  Target\n",
      "0          2       2\n",
      "1          2       2\n",
      "2          1       1\n",
      "3          2       2\n",
      "4          2       2\n",
      "5          0       0\n",
      "6          0       0\n",
      "7          0       0\n",
      "8          0       0\n",
      "9          2       2\n",
      "10         1       1\n",
      "11         1       1\n",
      "12         1       1\n",
      "13         2       2\n",
      "14         1       1\n"
     ]
    },
    {
     "ename": "AttributeError",
     "evalue": "'list' object has no attribute 'dtypes'",
     "output_type": "error",
     "traceback": [
      "\u001b[0;31m---------------------------------------------------------------------------\u001b[0m",
      "\u001b[0;31mAttributeError\u001b[0m                            Traceback (most recent call last)",
      "\u001b[0;32m<ipython-input-94-2f8089baa458>\u001b[0m in \u001b[0;36m<module>\u001b[0;34m\u001b[0m\n\u001b[1;32m     45\u001b[0m \u001b[0;34m\u001b[0m\u001b[0m\n\u001b[1;32m     46\u001b[0m \u001b[0mfeature_config\u001b[0m \u001b[0;34m=\u001b[0m \u001b[0msv\u001b[0m\u001b[0;34m.\u001b[0m\u001b[0mFeatureConfig\u001b[0m\u001b[0;34m(\u001b[0m\u001b[0mskip\u001b[0m\u001b[0;34m=\u001b[0m\u001b[0;34m\"C\"\u001b[0m\u001b[0;34m)\u001b[0m\u001b[0;34m\u001b[0m\u001b[0;34m\u001b[0m\u001b[0m\n\u001b[0;32m---> 47\u001b[0;31m \u001b[0mfinal_comparison\u001b[0m \u001b[0;34m=\u001b[0m \u001b[0msv\u001b[0m\u001b[0;34m.\u001b[0m\u001b[0mcompare_intra\u001b[0m\u001b[0;34m(\u001b[0m\u001b[0;34m[\u001b[0m\u001b[0my_predicted\u001b[0m\u001b[0;34m[\u001b[0m\u001b[0;34m'label'\u001b[0m\u001b[0;34m]\u001b[0m\u001b[0;34m,\u001b[0m \u001b[0;34m'Predicted'\u001b[0m\u001b[0;34m]\u001b[0m\u001b[0;34m,\u001b[0m \u001b[0;34m[\u001b[0m\u001b[0mnp\u001b[0m\u001b[0;34m.\u001b[0m\u001b[0marray\u001b[0m\u001b[0;34m(\u001b[0m\u001b[0my_test\u001b[0m\u001b[0;34m)\u001b[0m\u001b[0;34m,\u001b[0m \u001b[0;34m'Test Data'\u001b[0m\u001b[0;34m]\u001b[0m\u001b[0;34m,\u001b[0m \u001b[0;34m'Predicted'\u001b[0m\u001b[0;34m,\u001b[0m \u001b[0mfeature_config\u001b[0m\u001b[0;34m)\u001b[0m\u001b[0;34m\u001b[0m\u001b[0;34m\u001b[0m\u001b[0m\n\u001b[0m",
      "\u001b[0;32m~/.local/lib/python3.6/site-packages/sweetviz/sv_public.py\u001b[0m in \u001b[0;36mcompare_intra\u001b[0;34m(source_df, condition_series, names, target_feat, feat_cfg, pairwise_analysis)\u001b[0m\n\u001b[1;32m     34\u001b[0m         raise ValueError('compare_intra() expects source_df and '\n\u001b[1;32m     35\u001b[0m                          'condition_series to be the same length')\n\u001b[0;32m---> 36\u001b[0;31m     \u001b[0;32mif\u001b[0m \u001b[0mcondition_series\u001b[0m\u001b[0;34m.\u001b[0m\u001b[0mdtypes\u001b[0m \u001b[0;34m!=\u001b[0m \u001b[0mbool\u001b[0m\u001b[0;34m:\u001b[0m\u001b[0;34m\u001b[0m\u001b[0;34m\u001b[0m\u001b[0m\n\u001b[0m\u001b[1;32m     37\u001b[0m         raise ValueError('compare_intra() requires condition_series '\n\u001b[1;32m     38\u001b[0m                          'to be boolean length')\n",
      "\u001b[0;31mAttributeError\u001b[0m: 'list' object has no attribute 'dtypes'"
     ]
    }
   ],
   "source": [
    "import pandas as pd\n",
    "from pandas_profiling import ProfileReport\n",
    "import numpy as np\n",
    "import sweetviz as sv\n",
    "from sklearn import datasets\n",
    "from sklearn.model_selection import train_test_split\n",
    "from supervised.automl import AutoML\n",
    "\n",
    "data = datasets.load_iris()\n",
    "\n",
    "original_df = pd.read_csv(\"./data/data.csv\")\n",
    "blind_df = pd.DataFrame({\n",
    "    'A': original_df['sepal length (cm)'].values,\n",
    "    'B': original_df['sepal width (cm)'].values,\n",
    "    'C': original_df['petal length (cm)'].values,\n",
    "    'D': original_df['petal width (cm)'].values,\n",
    "    'target': original_df['class'].values\n",
    "})\n",
    "blind_df.set_index('target')\n",
    "blind_df['target'] = blind_df['target'].apply(lambda x: 0 if 'Iris-setosa' in x else 1 if 'Iris-versicolor' in x else 2 if 'Iris-virginica' in x else x)\n",
    "# detect duplicates except first one of each\n",
    "duplicated = blind_df[blind_df.duplicated()]\n",
    "# remove duplicates\n",
    "blind_df = blind_df.drop_duplicates()\n",
    "\n",
    "# COlumn B has low correlation with target and other columns, we can drop it from the dataset\n",
    "blind_df = blind_df.drop('B', axis=True)\n",
    "\n",
    "# profile = ProfileReport(blind_df, title='Iris Profiling Report', explorative=True)\n",
    "# profile.to_widgets() # Internal report\n",
    "# # profile.to_notebook_iframe() # display html\n",
    "# profile.to_file('./analysis/pandas-profiling.html') # save the report to html\n",
    "\n",
    "# Send the data to autoML\n",
    "X = pd.DataFrame(blind_df.drop('target',axis=True).values, columns=['A','C','D'])\n",
    "y = pd.Series(blind_df['target'].values, name='target')\n",
    "\n",
    "X_train, X_test, y_train, y_test = train_test_split(X, y, test_size=0.1)\n",
    "\n",
    "automl = AutoML(algorithms=['Decision Tree', 'Linear', 'Random Forest'], total_time_limit=5*60)\n",
    "automl.fit(X_train, y_train)\n",
    "\n",
    "y_predicted = automl.predict(X_test)\n",
    "print(pd.DataFrame({'Predicted': y_predicted['label'], 'Target': np.array(y_test)}))\n",
    "\n"
   ]
  },
  {
   "cell_type": "code",
   "execution_count": null,
   "metadata": {},
   "outputs": [],
   "source": []
  },
  {
   "cell_type": "code",
   "execution_count": null,
   "metadata": {},
   "outputs": [],
   "source": []
  },
  {
   "cell_type": "code",
   "execution_count": null,
   "metadata": {},
   "outputs": [],
   "source": []
  },
  {
   "cell_type": "code",
   "execution_count": null,
   "metadata": {},
   "outputs": [],
   "source": []
  }
 ],
 "metadata": {
  "kernelspec": {
   "display_name": "Python 3",
   "language": "python",
   "name": "python3"
  },
  "language_info": {
   "codemirror_mode": {
    "name": "ipython",
    "version": 3
   },
   "file_extension": ".py",
   "mimetype": "text/x-python",
   "name": "python",
   "nbconvert_exporter": "python",
   "pygments_lexer": "ipython3",
   "version": "3.6.11"
  }
 },
 "nbformat": 4,
 "nbformat_minor": 4
}
